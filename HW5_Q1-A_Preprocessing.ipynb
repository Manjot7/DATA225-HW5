{
 "cells": [
  {
   "cell_type": "code",
   "execution_count": 7,
   "id": "0fa838dc-c94f-4770-b610-b5cb18dfda20",
   "metadata": {
    "tags": []
   },
   "outputs": [],
   "source": [
    "import pandas as pd\n",
    "import pycountry"
   ]
  },
  {
   "cell_type": "code",
   "execution_count": 9,
   "id": "7f5fbb28-c1f4-4c46-baf6-14d807a03433",
   "metadata": {
    "tags": []
   },
   "outputs": [],
   "source": [
    "df = pd.read_csv('universal_top_spotify_songs.csv')"
   ]
  },
  {
   "cell_type": "code",
   "execution_count": 7,
   "id": "3d321a3a-8132-4809-9f42-cc1672f6ede9",
   "metadata": {
    "tags": []
   },
   "outputs": [
    {
     "name": "stdout",
     "output_type": "stream",
     "text": [
      "<class 'pandas.core.frame.DataFrame'>\n",
      "RangeIndex: 701353 entries, 0 to 701352\n",
      "Data columns (total 25 columns):\n",
      " #   Column              Non-Null Count   Dtype  \n",
      "---  ------              --------------   -----  \n",
      " 0   spotify_id          701353 non-null  object \n",
      " 1   name                701326 non-null  object \n",
      " 2   artists             701326 non-null  object \n",
      " 3   daily_rank          701353 non-null  int64  \n",
      " 4   daily_movement      701353 non-null  int64  \n",
      " 5   weekly_movement     701353 non-null  int64  \n",
      " 6   country             691896 non-null  object \n",
      " 7   snapshot_date       701353 non-null  object \n",
      " 8   popularity          701353 non-null  int64  \n",
      " 9   is_explicit         701353 non-null  bool   \n",
      " 10  duration_ms         701353 non-null  int64  \n",
      " 11  album_name          701100 non-null  object \n",
      " 12  album_release_date  701100 non-null  object \n",
      " 13  danceability        701353 non-null  float64\n",
      " 14  energy              701353 non-null  float64\n",
      " 15  key                 701353 non-null  int64  \n",
      " 16  loudness            701353 non-null  float64\n",
      " 17  mode                701353 non-null  int64  \n",
      " 18  speechiness         701353 non-null  float64\n",
      " 19  acousticness        701353 non-null  float64\n",
      " 20  instrumentalness    701353 non-null  float64\n",
      " 21  liveness            701353 non-null  float64\n",
      " 22  valence             701353 non-null  float64\n",
      " 23  tempo               701353 non-null  float64\n",
      " 24  time_signature      701353 non-null  int64  \n",
      "dtypes: bool(1), float64(9), int64(8), object(7)\n",
      "memory usage: 129.1+ MB\n"
     ]
    }
   ],
   "source": [
    "df.info()"
   ]
  },
  {
   "cell_type": "code",
   "execution_count": 8,
   "id": "5f06b207-c466-423d-97a5-3eb59392f35a",
   "metadata": {
    "tags": []
   },
   "outputs": [],
   "source": [
    "df.dropna(subset=['name'], inplace=True)"
   ]
  },
  {
   "cell_type": "code",
   "execution_count": 9,
   "id": "abe6a788-f97e-4b3c-992a-0ec2ab6b2524",
   "metadata": {
    "tags": []
   },
   "outputs": [],
   "source": [
    "# Splitting the 'artists' column into 'main_artist' and 'featured_artists'\n",
    "df[['main_artist', 'featured_artists']] = df['artists'].str.split(',', n=1, expand=True)\n",
    "\n",
    "# Strip any leading or trailing spaces in the new columns\n",
    "df['main_artist'] = df['main_artist'].str.strip()\n",
    "df['featured_artists'] = df['featured_artists'].str.strip()\n",
    "\n",
    "# Drop the original 'artists' column\n",
    "df.drop('artists', axis=1, inplace=True)"
   ]
  },
  {
   "cell_type": "code",
   "execution_count": 10,
   "id": "19079b70-f4d2-41b8-ac14-49473685c4d5",
   "metadata": {
    "tags": []
   },
   "outputs": [
    {
     "name": "stdout",
     "output_type": "stream",
     "text": [
      "spotify_id                 0\n",
      "name                       0\n",
      "daily_rank                 0\n",
      "daily_movement             0\n",
      "weekly_movement            0\n",
      "country                 9457\n",
      "snapshot_date              0\n",
      "popularity                 0\n",
      "is_explicit                0\n",
      "duration_ms                0\n",
      "album_name               226\n",
      "album_release_date       226\n",
      "danceability               0\n",
      "energy                     0\n",
      "key                        0\n",
      "loudness                   0\n",
      "mode                       0\n",
      "speechiness                0\n",
      "acousticness               0\n",
      "instrumentalness           0\n",
      "liveness                   0\n",
      "valence                    0\n",
      "tempo                      0\n",
      "time_signature             0\n",
      "main_artist                0\n",
      "featured_artists      419374\n",
      "dtype: int64\n"
     ]
    }
   ],
   "source": [
    "# Count null or NaN values in each column\n",
    "null_counts = df.isnull().sum()\n",
    "\n",
    "# Display the null value counts for each column\n",
    "print(null_counts)"
   ]
  },
  {
   "cell_type": "code",
   "execution_count": 11,
   "id": "83fae140-2169-4928-b415-18ad198f2b30",
   "metadata": {
    "tags": []
   },
   "outputs": [],
   "source": [
    "# Drop rows with missing values in 'country', 'album_name', and 'album_release_date'\n",
    "df.dropna(subset=['country', 'album_name', 'album_release_date'], inplace=True)"
   ]
  },
  {
   "cell_type": "code",
   "execution_count": 12,
   "id": "50ae3b3b-d482-41ce-923e-dc6100d64434",
   "metadata": {
    "tags": []
   },
   "outputs": [],
   "source": [
    "# Update null values in 'featured_artists' column to display \"No features\"\n",
    "df['featured_artists'].fillna(\"No features\", inplace=True)"
   ]
  },
  {
   "cell_type": "code",
   "execution_count": 13,
   "id": "ca093549-736d-441a-96a7-9562de9166f1",
   "metadata": {
    "tags": []
   },
   "outputs": [
    {
     "name": "stdout",
     "output_type": "stream",
     "text": [
      "spotify_id            0\n",
      "name                  0\n",
      "daily_rank            0\n",
      "daily_movement        0\n",
      "weekly_movement       0\n",
      "country               0\n",
      "snapshot_date         0\n",
      "popularity            0\n",
      "is_explicit           0\n",
      "duration_ms           0\n",
      "album_name            0\n",
      "album_release_date    0\n",
      "danceability          0\n",
      "energy                0\n",
      "key                   0\n",
      "loudness              0\n",
      "mode                  0\n",
      "speechiness           0\n",
      "acousticness          0\n",
      "instrumentalness      0\n",
      "liveness              0\n",
      "valence               0\n",
      "tempo                 0\n",
      "time_signature        0\n",
      "main_artist           0\n",
      "featured_artists      0\n",
      "dtype: int64\n"
     ]
    }
   ],
   "source": [
    "# Count null or NaN values in each column\n",
    "null_counts = df.isnull().sum()\n",
    "\n",
    "# Display the null value counts for each column\n",
    "print(null_counts)"
   ]
  },
  {
   "cell_type": "code",
   "execution_count": 14,
   "id": "3656788f-7d52-4608-abd0-211c755db053",
   "metadata": {
    "tags": []
   },
   "outputs": [
    {
     "name": "stdout",
     "output_type": "stream",
     "text": [
      "50        377.920\n",
      "51        390.000\n",
      "52        351.200\n",
      "53        408.014\n",
      "54        285.034\n",
      "           ...   \n",
      "701348    310.490\n",
      "701349    173.253\n",
      "701350    184.791\n",
      "701351    179.560\n",
      "701352    132.359\n",
      "Name: duration_seconds, Length: 691646, dtype: float64\n"
     ]
    }
   ],
   "source": [
    "# Define a function to convert milliseconds to seconds\n",
    "def ms_to_seconds(ms):\n",
    "    return ms / 1000\n",
    "\n",
    "# Apply the function to the 'duration_ms' column and create a new column 'duration_seconds'\n",
    "df['duration_seconds'] = df['duration_ms'].apply(ms_to_seconds)\n",
    "\n",
    "# Print the values in the 'duration_seconds' column\n",
    "print(df['duration_seconds'])"
   ]
  },
  {
   "cell_type": "code",
   "execution_count": 15,
   "id": "a0a27911-c726-43c1-b89a-7d3f1aabe7aa",
   "metadata": {
    "tags": []
   },
   "outputs": [],
   "source": [
    "# Drop the original 'duration_ms' column\n",
    "df.drop('duration_ms', axis=1, inplace=True)"
   ]
  },
  {
   "cell_type": "code",
   "execution_count": 18,
   "id": "12055737-71c3-4af2-9886-27bb36c06838",
   "metadata": {
    "tags": []
   },
   "outputs": [],
   "source": [
    "# Create 10 bins for 'duration_seconds' and name the column 'duration_bins'\n",
    "df['duration_bins'] = pd.cut(df['duration_seconds'], bins=10)"
   ]
  },
  {
   "cell_type": "code",
   "execution_count": 19,
   "id": "28120c5a-8e52-40b7-b176-f516cb68b388",
   "metadata": {
    "tags": []
   },
   "outputs": [
    {
     "name": "stdout",
     "output_type": "stream",
     "text": [
      "50             1\n",
      "51             2\n",
      "52             3\n",
      "53             4\n",
      "54             5\n",
      "           ...  \n",
      "701348    691642\n",
      "701349    691643\n",
      "701350    691644\n",
      "701351    691645\n",
      "701352    691646\n",
      "Name: spotify_id, Length: 691646, dtype: int64\n"
     ]
    }
   ],
   "source": [
    "# Generate primary keys for each row\n",
    "df['primary_key'] = range(1, len(df) + 1)\n",
    "\n",
    "# Replace 'spotify_id' values with primary keys\n",
    "df['spotify_id'] = df['primary_key']\n",
    "\n",
    "# Drop the temporary primary key column\n",
    "df.drop('primary_key', axis=1, inplace=True)\n",
    "\n",
    "# Print the updated 'spotify_id' column\n",
    "print(df['spotify_id'])"
   ]
  },
  {
   "cell_type": "code",
   "execution_count": 20,
   "id": "3bfb82bf-9f90-41c3-9a5f-8ab201b88b28",
   "metadata": {
    "tags": []
   },
   "outputs": [
    {
     "name": "stdout",
     "output_type": "stream",
     "text": [
      "<class 'pandas.core.frame.DataFrame'>\n",
      "Index: 691646 entries, 50 to 701352\n",
      "Data columns (total 27 columns):\n",
      " #   Column              Non-Null Count   Dtype   \n",
      "---  ------              --------------   -----   \n",
      " 0   spotify_id          691646 non-null  int64   \n",
      " 1   name                691646 non-null  object  \n",
      " 2   daily_rank          691646 non-null  int64   \n",
      " 3   daily_movement      691646 non-null  int64   \n",
      " 4   weekly_movement     691646 non-null  int64   \n",
      " 5   country             691646 non-null  object  \n",
      " 6   snapshot_date       691646 non-null  object  \n",
      " 7   popularity          691646 non-null  int64   \n",
      " 8   is_explicit         691646 non-null  bool    \n",
      " 9   album_name          691646 non-null  object  \n",
      " 10  album_release_date  691646 non-null  object  \n",
      " 11  danceability        691646 non-null  float64 \n",
      " 12  energy              691646 non-null  float64 \n",
      " 13  key                 691646 non-null  int64   \n",
      " 14  loudness            691646 non-null  float64 \n",
      " 15  mode                691646 non-null  int64   \n",
      " 16  speechiness         691646 non-null  float64 \n",
      " 17  acousticness        691646 non-null  float64 \n",
      " 18  instrumentalness    691646 non-null  float64 \n",
      " 19  liveness            691646 non-null  float64 \n",
      " 20  valence             691646 non-null  float64 \n",
      " 21  tempo               691646 non-null  float64 \n",
      " 22  time_signature      691646 non-null  int64   \n",
      " 23  main_artist         691646 non-null  object  \n",
      " 24  featured_artists    691646 non-null  object  \n",
      " 25  duration_seconds    691646 non-null  float64 \n",
      " 26  duration_bins       691646 non-null  category\n",
      "dtypes: bool(1), category(1), float64(10), int64(8), object(7)\n",
      "memory usage: 138.5+ MB\n"
     ]
    }
   ],
   "source": [
    "df.info()"
   ]
  },
  {
   "cell_type": "code",
   "execution_count": 21,
   "id": "0b53de49-fe83-4cf6-8d89-c24159a7dc97",
   "metadata": {
    "tags": []
   },
   "outputs": [
    {
     "name": "stdout",
     "output_type": "stream",
     "text": [
      "Export successful.\n"
     ]
    }
   ],
   "source": [
    "# Extract 'album_name' and 'album_release_date' columns\n",
    "album_info_df = df[['album_name', 'album_release_date']].copy()\n",
    "\n",
    "# Drop duplicate rows to keep only unique combinations\n",
    "album_info_df.drop_duplicates(inplace=True)\n",
    "\n",
    "# Generate primary keys for each unique combination\n",
    "album_info_df['album_id'] = range(1, len(album_info_df) + 1)\n",
    "\n",
    "# Set the primary key as the index and rename the DataFrame\n",
    "album_info_df.set_index('album_id', inplace=True)\n",
    "album_info_df.index.name = 'album_id'\n",
    "album_info_df.name = 'Album Info'\n",
    "\n",
    "# Export the album_info table to a CSV file\n",
    "album_info_df.to_csv('album_info.csv')\n",
    "\n",
    "print(\"Export successful.\")"
   ]
  },
  {
   "cell_type": "code",
   "execution_count": 22,
   "id": "c30e679d-0773-4210-87f8-7644da75bcca",
   "metadata": {
    "tags": []
   },
   "outputs": [
    {
     "name": "stdout",
     "output_type": "stream",
     "text": [
      "Export successful.\n"
     ]
    }
   ],
   "source": [
    "# Extract 'main_artist' and 'featured_artist' columns\n",
    "artist_info_df = df[['main_artist', 'featured_artists']].copy()\n",
    "\n",
    "# Rename the 'main_artist' column to 'artist_name' for the first part\n",
    "artist_info_df.rename(columns={'main_artist': 'artist_name'}, inplace=True)\n",
    "\n",
    "# Create a new DataFrame for the 'featured_artist' column\n",
    "featured_artists_df = pd.DataFrame({'artist_name': df['featured_artists'].dropna()})\n",
    "\n",
    "# Concatenate the 'featured_artists_df' to the 'artist_info_df'\n",
    "artist_info_df = pd.concat([artist_info_df, featured_artists_df], ignore_index=True)\n",
    "\n",
    "# Drop duplicate artist names to keep only unique artists\n",
    "artist_info_df.drop_duplicates(inplace=True)\n",
    "\n",
    "# Generate primary keys for each unique artist\n",
    "artist_info_df['artist_id'] = range(1, len(artist_info_df) + 1)\n",
    "\n",
    "# Set the primary key as the index and select the required columns\n",
    "artist_info_df.set_index('artist_id', inplace=True)\n",
    "artist_info_df = artist_info_df[['artist_name']]\n",
    "\n",
    "# Rename the DataFrame\n",
    "artist_info_df.name = 'Artist Info'\n",
    "\n",
    "# Export the artist_info table to a CSV file\n",
    "artist_info_df.to_csv('artist_info.csv')\n",
    "\n",
    "print(\"Export successful.\")"
   ]
  },
  {
   "cell_type": "code",
   "execution_count": 23,
   "id": "ea362822-d585-4ac1-bbeb-0e7e667aea26",
   "metadata": {
    "tags": []
   },
   "outputs": [],
   "source": [
    "# Drop the 'duration_seconds' column\n",
    "df.drop(columns=['duration_seconds'], inplace=True)"
   ]
  },
  {
   "cell_type": "code",
   "execution_count": 24,
   "id": "47bcbd6a-03ca-4a54-ba5d-47ebafc2743d",
   "metadata": {
    "tags": []
   },
   "outputs": [
    {
     "name": "stdout",
     "output_type": "stream",
     "text": [
      "Export successful.\n"
     ]
    }
   ],
   "source": [
    "# Extract unique values from the 'duration_bins' column\n",
    "time_info_df = pd.DataFrame({'duration_bins': df['duration_bins'].unique()})\n",
    "\n",
    "# Generate primary keys for each unique value\n",
    "time_info_df['time_id'] = range(1, len(time_info_df) + 1)\n",
    "\n",
    "# Set the primary key as the index and rename the DataFrame\n",
    "time_info_df.set_index('time_id', inplace=True)\n",
    "time_info_df.index.name = 'time_id'\n",
    "time_info_df.name = 'Time Info'\n",
    "\n",
    "# Export the time_info table to a CSV file\n",
    "time_info_df.to_csv('time_info.csv')\n",
    "\n",
    "print(\"Export successful.\")"
   ]
  },
  {
   "cell_type": "code",
   "execution_count": 69,
   "id": "4212f47c-8c52-4ee5-b70e-a17e82c932b5",
   "metadata": {
    "tags": []
   },
   "outputs": [
    {
     "name": "stdout",
     "output_type": "stream",
     "text": [
      "Export successful.\n"
     ]
    }
   ],
   "source": [
    "# Extract unique values and sort them for each column\n",
    "is_explicit_values = sorted(df['is_explicit'].unique())\n",
    "danceability_values = sorted(df['danceability'].unique())\n",
    "energy_values = sorted(df['energy'].unique())\n",
    "music_key_values = sorted(df['key'].unique())\n",
    "loudness_values = sorted(df['loudness'].unique())\n",
    "mode_values = sorted(df['mode'].unique())\n",
    "speechiness_values = sorted(df['speechiness'].unique())\n",
    "acousticness_values = sorted(df['acousticness'].unique())\n",
    "instrumentalness_values = sorted(df['instrumentalness'].unique())\n",
    "liveness_values = sorted(df['liveness'].unique())\n",
    "valence_values = sorted(df['valence'].unique())\n",
    "tempo_values = sorted(df['tempo'].unique())\n",
    "popularity_values = sorted(df['popularity'].unique())\n",
    "\n",
    "# Create DataFrames for each column with sorted unique values\n",
    "is_explicit_df = pd.DataFrame({'is_explicit': is_explicit_values})\n",
    "danceability_df = pd.DataFrame({'danceability': danceability_values})\n",
    "energy_df = pd.DataFrame({'energy': energy_values})\n",
    "music_key_df = pd.DataFrame({'music_key': music_key_values})\n",
    "loudness_df = pd.DataFrame({'loudness': loudness_values})\n",
    "mode_df = pd.DataFrame({'mode': mode_values})\n",
    "speechiness_df = pd.DataFrame({'speechiness': speechiness_values})\n",
    "acousticness_df = pd.DataFrame({'acousticness': acousticness_values})\n",
    "instrumentalness_df = pd.DataFrame({'instrumentalness': instrumentalness_values})\n",
    "liveness_df = pd.DataFrame({'liveness': liveness_values})\n",
    "valence_df = pd.DataFrame({'valence': valence_values})\n",
    "tempo_df = pd.DataFrame({'tempo': tempo_values})\n",
    "popularity_df = pd.DataFrame({'popularity': popularity_values})\n",
    "\n",
    "# Generate primary keys for each unique value\n",
    "is_explicit_df['explicit_id'] = range(1, len(is_explicit_df) + 1)\n",
    "danceability_df['danceability_id'] = range(1, len(danceability_df) + 1)\n",
    "energy_df['energy_id'] = range(1, len(energy_df) + 1)\n",
    "music_key_df['music_key_id'] = range(1, len(music_key_df) + 1)\n",
    "loudness_df['loudness_id'] = range(1, len(loudness_df) + 1)\n",
    "mode_df['mode_id'] = range(1, len(mode_df) + 1)\n",
    "speechiness_df['speechiness_id'] = range(1, len(speechiness_df) + 1)\n",
    "acousticness_df['acousticness_id'] = range(1, len(acousticness_df) + 1)\n",
    "instrumentalness_df['instrumentalness_id'] = range(1, len(instrumentalness_df) + 1)\n",
    "liveness_df['liveness_id'] = range(1, len(liveness_df) + 1)\n",
    "valence_df['valence_id'] = range(1, len(valence_df) + 1)\n",
    "tempo_df['tempo_id'] = range(1, len(tempo_df) + 1)\n",
    "popularity_df['popularity_id'] = range(1, len(popularity_df) + 1)\n",
    "\n",
    "# Set the primary key as the index for each DataFrame\n",
    "is_explicit_df.set_index('explicit_id', inplace=True)\n",
    "danceability_df.set_index('danceability_id', inplace=True)\n",
    "energy_df.set_index('energy_id', inplace=True)\n",
    "music_key_df.set_index('music_key_id', inplace=True)\n",
    "loudness_df.set_index('loudness_id', inplace=True)\n",
    "mode_df.set_index('mode_id', inplace=True)\n",
    "speechiness_df.set_index('speechiness_id', inplace=True)\n",
    "acousticness_df.set_index('acousticness_id', inplace=True)\n",
    "instrumentalness_df.set_index('instrumentalness_id', inplace=True)\n",
    "liveness_df.set_index('liveness_id', inplace=True)\n",
    "valence_df.set_index('valence_id', inplace=True)\n",
    "tempo_df.set_index('tempo_id', inplace=True)\n",
    "popularity_df.set_index('popularity_id', inplace=True)\n",
    "\n",
    "# Export each table to a CSV file\n",
    "is_explicit_df.to_csv('is_explicit.csv')\n",
    "danceability_df.to_csv('danceability.csv')\n",
    "energy_df.to_csv('energy.csv')\n",
    "music_key_df.to_csv('music_key.csv')\n",
    "loudness_df.to_csv('loudness.csv')\n",
    "mode_df.to_csv('mode.csv')\n",
    "speechiness_df.to_csv('speechiness.csv')\n",
    "acousticness_df.to_csv('acousticness.csv')\n",
    "instrumentalness_df.to_csv('instrumentalness.csv')\n",
    "liveness_df.to_csv('liveness.csv')\n",
    "valence_df.to_csv('valence.csv')\n",
    "tempo_df.to_csv('tempo.csv')\n",
    "popularity_df.to_csv('popularity.csv')\n",
    "\n",
    "print(\"Export successful.\")"
   ]
  },
  {
   "cell_type": "code",
   "execution_count": 26,
   "id": "754fca68-3898-4915-b9cf-535e3d8268a7",
   "metadata": {
    "tags": []
   },
   "outputs": [
    {
     "name": "stdout",
     "output_type": "stream",
     "text": [
      "   snapshot_date snapshot_year_month\n",
      "50    2024-04-30             2024-04\n",
      "51    2024-04-30             2024-04\n",
      "52    2024-04-30             2024-04\n",
      "53    2024-04-30             2024-04\n",
      "54    2024-04-30             2024-04\n"
     ]
    }
   ],
   "source": [
    "# Convert 'snapshot_date' to datetime format if it's not already\n",
    "df['snapshot_date'] = pd.to_datetime(df['snapshot_date'])\n",
    "\n",
    "# Extract the year and month from 'snapshot_date' and store them in a new column 'snapshot_year_month'\n",
    "df['snapshot_year_month'] = df['snapshot_date'].dt.to_period('M')\n",
    "\n",
    "# Print the updated DataFrame with the 'snapshot_year_month' column\n",
    "print(df[['snapshot_date', 'snapshot_year_month']].head())"
   ]
  },
  {
   "cell_type": "code",
   "execution_count": 27,
   "id": "588c31ce-789a-49a4-b4cb-3861ccc358dc",
   "metadata": {
    "tags": []
   },
   "outputs": [
    {
     "name": "stdout",
     "output_type": "stream",
     "text": [
      "Export successful.\n"
     ]
    }
   ],
   "source": [
    "# Extract unique year-month combinations from 'snapshot_year_month' column\n",
    "unique_year_months = df['snapshot_year_month'].unique()\n",
    "\n",
    "# Generate primary keys for each unique year-month combination\n",
    "snapshot_month_df = pd.DataFrame({'snapshot_year_month': unique_year_months})\n",
    "snapshot_month_df['month_id'] = range(1, len(snapshot_month_df) + 1)\n",
    "\n",
    "# Set the primary key as the index for the DataFrame\n",
    "snapshot_month_df.set_index('month_id', inplace=True)\n",
    "\n",
    "# Export the 'snapshot_month_df' DataFrame to a CSV file named 'snapshot_month_table.csv'\n",
    "snapshot_month_df.to_csv('snapshot_month_table.csv')\n",
    "\n",
    "print(\"Export successful.\")"
   ]
  },
  {
   "cell_type": "code",
   "execution_count": 28,
   "id": "44c65db7-671e-4232-b3b7-01fdc2184409",
   "metadata": {
    "tags": []
   },
   "outputs": [
    {
     "name": "stdout",
     "output_type": "stream",
     "text": [
      "Export successful.\n"
     ]
    }
   ],
   "source": [
    "# Create a new DataFrame for the song table with 'spotify_id' and 'name' columns renamed\n",
    "song_df = df[['spotify_id', 'name']].rename(columns={'name': 'song_name'})\n",
    "\n",
    "# Export the 'song_df' DataFrame to a CSV file named 'song_table.csv'\n",
    "song_df.to_csv('song_details.csv', index=False)\n",
    "\n",
    "print(\"Export successful.\")"
   ]
  },
  {
   "cell_type": "code",
   "execution_count": 29,
   "id": "e8ea9576-59d0-4004-9d33-7d70c7da5907",
   "metadata": {
    "tags": []
   },
   "outputs": [
    {
     "name": "stdout",
     "output_type": "stream",
     "text": [
      "Export successful.\n"
     ]
    }
   ],
   "source": [
    "import pandas as pd\n",
    "\n",
    "# Extract unique values from the 'country' column\n",
    "unique_countries = df['country'].unique()\n",
    "\n",
    "# Generate primary keys for each unique country\n",
    "country_df = pd.DataFrame({'country': unique_countries})\n",
    "country_df['country_id'] = range(1, len(country_df) + 1)\n",
    "\n",
    "# Set the primary key as the index for the DataFrame\n",
    "country_df.set_index('country_id', inplace=True)\n",
    "\n",
    "# Export the 'country_df' DataFrame to a CSV file named 'country_table.csv'\n",
    "country_df.to_csv('country.csv')\n",
    "\n",
    "print(\"Export successful.\")"
   ]
  },
  {
   "cell_type": "code",
   "execution_count": 30,
   "id": "f99195f0-ed85-4c60-961b-ee56390f864f",
   "metadata": {
    "tags": []
   },
   "outputs": [],
   "source": [
    "# Load the existing 'country.csv' file\n",
    "country_df = pd.read_csv('country.csv')\n",
    "\n",
    "# Add a new column 'full_country_name' with full country names\n",
    "def get_country_name(code):\n",
    "    try:\n",
    "        return pycountry.countries.get(alpha_2=code).name\n",
    "    except AttributeError:\n",
    "        return 'Unknown'\n",
    "\n",
    "country_df['full_country_name'] = country_df['country'].apply(get_country_name)"
   ]
  },
  {
   "cell_type": "code",
   "execution_count": 31,
   "id": "d19468f4-3692-4138-9a04-9a91aa9736f6",
   "metadata": {
    "tags": []
   },
   "outputs": [
    {
     "name": "stdout",
     "output_type": "stream",
     "text": [
      "Columns renamed and file updated successfully.\n"
     ]
    }
   ],
   "source": [
    "# Load the existing 'country.csv' file\n",
    "country_df = pd.read_csv('country.csv')\n",
    "\n",
    "# Rename the columns\n",
    "country_df.rename(columns={'ISO Code': 'ISO_Code', 'ISO_Code': 'country'}, inplace=True)\n",
    "\n",
    "# Export the DataFrame to a CSV file, overwriting the existing file\n",
    "country_df.to_csv('country.csv', index=False)\n",
    "\n",
    "print(\"Columns renamed and file updated successfully.\")"
   ]
  },
  {
   "cell_type": "code",
   "execution_count": 32,
   "id": "efe3ef16-4601-4e24-ae8a-049f08d52e16",
   "metadata": {
    "tags": []
   },
   "outputs": [
    {
     "name": "stdout",
     "output_type": "stream",
     "text": [
      "Export successful.\n"
     ]
    }
   ],
   "source": [
    "# Extract unique values from the columns\n",
    "unique_daily_rank = sorted(df['daily_rank'].unique())\n",
    "unique_movement = sorted(df['daily_movement'].unique())\n",
    "\n",
    "# Create DataFrames for each column with 'movement_id' as index\n",
    "daily_rank_df = pd.DataFrame({'daily_rank': unique_daily_rank})\n",
    "daily_rank_df['rank_id'] = range(1, len(daily_rank_df) + 1)\n",
    "daily_rank_df.set_index('rank_id', inplace=True)\n",
    "\n",
    "movement_df = pd.DataFrame({'daily_movement': unique_movement})\n",
    "movement_df['movement_id'] = range(1, len(movement_df) + 1)\n",
    "movement_df.set_index('movement_id', inplace=True)\n",
    "\n",
    "# Export DataFrames to CSV files with 'movement_id' as index and primary key\n",
    "daily_rank_df.to_csv('daily_rank.csv')\n",
    "movement_df.to_csv('movement.csv')\n",
    "\n",
    "print(\"Export successful.\")"
   ]
  },
  {
   "cell_type": "code",
   "execution_count": 77,
   "id": "2ae01a66-8724-44e1-9df8-d8eb77e0fc11",
   "metadata": {
    "tags": []
   },
   "outputs": [],
   "source": [
    "df = df.rename(columns={'key': 'music_key'})"
   ]
  },
  {
   "cell_type": "code",
   "execution_count": 79,
   "id": "3dd029fe-1afd-4a1a-9037-cf0c1a180352",
   "metadata": {
    "tags": []
   },
   "outputs": [
    {
     "name": "stdout",
     "output_type": "stream",
     "text": [
      "<class 'pandas.core.frame.DataFrame'>\n",
      "Index: 691646 entries, 50 to 701352\n",
      "Data columns (total 27 columns):\n",
      " #   Column               Non-Null Count   Dtype         \n",
      "---  ------               --------------   -----         \n",
      " 0   spotify_id           691646 non-null  int64         \n",
      " 1   name                 691646 non-null  object        \n",
      " 2   daily_rank           691646 non-null  int64         \n",
      " 3   daily_movement       691646 non-null  int64         \n",
      " 4   weekly_movement      691646 non-null  int64         \n",
      " 5   country              691646 non-null  object        \n",
      " 6   snapshot_date        691646 non-null  datetime64[ns]\n",
      " 7   popularity           691646 non-null  int64         \n",
      " 8   is_explicit          691646 non-null  bool          \n",
      " 9   album_name           691646 non-null  object        \n",
      " 10  album_release_date   691646 non-null  object        \n",
      " 11  danceability         691646 non-null  float64       \n",
      " 12  energy               691646 non-null  float64       \n",
      " 13  music_key            691646 non-null  int64         \n",
      " 14  loudness             691646 non-null  float64       \n",
      " 15  mode                 691646 non-null  int64         \n",
      " 16  speechiness          691646 non-null  float64       \n",
      " 17  acousticness         691646 non-null  float64       \n",
      " 18  instrumentalness     691646 non-null  float64       \n",
      " 19  liveness             691646 non-null  float64       \n",
      " 20  valence              691646 non-null  float64       \n",
      " 21  tempo                691646 non-null  float64       \n",
      " 22  time_signature       691646 non-null  int64         \n",
      " 23  main_artist          691646 non-null  object        \n",
      " 24  featured_artists     691646 non-null  object        \n",
      " 25  duration_bins        691646 non-null  category      \n",
      " 26  snapshot_year_month  691646 non-null  period[M]     \n",
      "dtypes: bool(1), category(1), datetime64[ns](1), float64(9), int64(8), object(6), period[M](1)\n",
      "memory usage: 138.5+ MB\n"
     ]
    }
   ],
   "source": [
    "df.info()"
   ]
  },
  {
   "cell_type": "code",
   "execution_count": 81,
   "id": "52309d71-7b49-4108-bc3a-f04223eb90ae",
   "metadata": {
    "tags": []
   },
   "outputs": [],
   "source": [
    "df.to_csv('universal_top_spotify_songs.csv', index=False)"
   ]
  },
  {
   "cell_type": "code",
   "execution_count": 84,
   "id": "4f99b0f5-d4dd-48b7-a4a9-bff15fb0dd45",
   "metadata": {
    "tags": []
   },
   "outputs": [],
   "source": [
    "# Get unique values of snapshot_year_month\n",
    "unique_months = df['snapshot_year_month'].unique()\n",
    "\n",
    "# Create separate DataFrames for each unique snapshot_year_month\n",
    "for month in unique_months:\n",
    "    # Filter the DataFrame for the current month\n",
    "    month_df = df[df['snapshot_year_month'] == month]\n",
    "    \n",
    "    # Save the DataFrame to a CSV file\n",
    "    file_name = f\"snapshot_month_{month}.csv\"\n",
    "    month_df.to_csv(file_name, index=False)"
   ]
  },
  {
   "cell_type": "code",
   "execution_count": 90,
   "id": "d47655ec-18f7-48fb-8ecd-b1bfb737583b",
   "metadata": {
    "tags": []
   },
   "outputs": [],
   "source": [
    "acousticness = pd.read_csv('acousticness.csv')"
   ]
  },
  {
   "cell_type": "code",
   "execution_count": 92,
   "id": "11641aae-c315-45bb-b492-21215722ae6d",
   "metadata": {
    "tags": []
   },
   "outputs": [
    {
     "name": "stdout",
     "output_type": "stream",
     "text": [
      "<class 'pandas.core.frame.DataFrame'>\n",
      "RangeIndex: 2186 entries, 0 to 2185\n",
      "Data columns (total 2 columns):\n",
      " #   Column           Non-Null Count  Dtype  \n",
      "---  ------           --------------  -----  \n",
      " 0   acousticness_id  2186 non-null   int64  \n",
      " 1   acousticness     2186 non-null   float64\n",
      "dtypes: float64(1), int64(1)\n",
      "memory usage: 34.3 KB\n"
     ]
    }
   ],
   "source": [
    "acousticness.info()"
   ]
  },
  {
   "cell_type": "code",
   "execution_count": 19,
   "id": "2c58b854-4ce1-4a4e-b0bf-a3c8b1ccac3a",
   "metadata": {},
   "outputs": [
    {
     "name": "stdout",
     "output_type": "stream",
     "text": [
      "        spotify_id      name  daily_rank  daily_movement  weekly_movement  \\\n",
      "671758      671759  На грани          31              19               19   \n",
      "\n",
      "       country snapshot_date  popularity  is_explicit album_name  ...  \\\n",
      "671758      KZ    2023-10-23          54        False   На грани  ...   \n",
      "\n",
      "       acousticness  instrumentalness  liveness  valence    tempo  \\\n",
      "671758       0.0607          0.000222    0.0666    0.482  110.019   \n",
      "\n",
      "        time_signature  main_artist  featured_artists       duration_bins  \\\n",
      "671758               4       JANAGA             Sevak  (124.554, 215.122]   \n",
      "\n",
      "        snapshot_year_month  \n",
      "671758              2023-10  \n",
      "\n",
      "[1 rows x 27 columns]\n"
     ]
    }
   ],
   "source": [
    "# Filter the DataFrame for spotify_id 671759\n",
    "spotify_id_671759 = df[df['spotify_id'] == 671759]\n",
    "\n",
    "# Print the data for spotify_id 671759\n",
    "print(spotify_id_671759)"
   ]
  },
  {
   "cell_type": "code",
   "execution_count": null,
   "id": "181c90e7-6a34-4e97-8dda-a43dd86c31b8",
   "metadata": {},
   "outputs": [],
   "source": []
  }
 ],
 "metadata": {
  "kernelspec": {
   "display_name": "Python 3 (ipykernel)",
   "language": "python",
   "name": "python3"
  },
  "language_info": {
   "codemirror_mode": {
    "name": "ipython",
    "version": 3
   },
   "file_extension": ".py",
   "mimetype": "text/x-python",
   "name": "python",
   "nbconvert_exporter": "python",
   "pygments_lexer": "ipython3",
   "version": "3.11.9"
  },
  "toc-autonumbering": false,
  "toc-showmarkdowntxt": false
 },
 "nbformat": 4,
 "nbformat_minor": 5
}
